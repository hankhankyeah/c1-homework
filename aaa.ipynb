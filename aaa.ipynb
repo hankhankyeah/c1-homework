{
 "cells": [
  {
   "cell_type": "code",
   "execution_count": 4,
   "metadata": {},
   "outputs": [
    {
     "name": "stdout",
     "output_type": "stream",
     "text": [
      "enter height :23.5\n",
      "enter weight :19\n",
      "Height = 23.5\n",
      "Weight = 19\n",
      "Perimeter = 85.0\n",
      "Area = 446.5\n"
     ]
    }
   ],
   "source": [
    "#第三章\n",
    "# 1.\n",
    "x=eval(input('enter height :'))\n",
    "y=eval(input('enter weight :'))\n",
    "area=x*y\n",
    "perimeter=(x+y)*2\n",
    "print('Height =',x)\n",
    "print('Weight =',y)\n",
    "print('Perimeter =',perimeter)\n",
    "print('Area =',area)\n"
   ]
  },
  {
   "cell_type": "code",
   "execution_count": 12,
   "metadata": {},
   "outputs": [
    {
     "name": "stdout",
     "output_type": "stream",
     "text": [
      "輸入正三角形的邊長:2\n",
      "height = 1.7320508075688772\n",
      "area = 1.7320508075688772\n"
     ]
    }
   ],
   "source": [
    "# 2.\n",
    "import math\n",
    "x=eval(input('輸入正三角形的邊長:'))\n",
    "print('height =', 3**(1/2)*(1/2)*x)\n",
    "print('area =', 3**(1/2)*(1/4)*x**2)"
   ]
  },
  {
   "cell_type": "code",
   "execution_count": 14,
   "metadata": {},
   "outputs": [
    {
     "name": "stdout",
     "output_type": "stream",
     "text": [
      "分 =10\n",
      "秒 =25\n",
      "公里 =3\n",
      "Speed = 10.8 miles/hour\n"
     ]
    }
   ],
   "source": [
    "# 3.\n",
    "x=eval(input('分 ='))\n",
    "y=eval(input('秒 ='))\n",
    "z=eval(input('公里 ='))\n",
    "print('Speed =',((z/(x/60+y/3600))/1.6),'miles/hour')"
   ]
  },
  {
   "cell_type": "code",
   "execution_count": 15,
   "metadata": {},
   "outputs": [
    {
     "name": "stdout",
     "output_type": "stream",
     "text": [
      "miles =2\n",
      "Km = 3.2\n"
     ]
    }
   ],
   "source": [
    "# 4.\n",
    "a=eval(input('miles ='))\n",
    "print('Km =',a*1.6)"
   ]
  },
  {
   "cell_type": "code",
   "execution_count": 16,
   "metadata": {},
   "outputs": [
    {
     "name": "stdout",
     "output_type": "stream",
     "text": [
      "輸入華氏溫度 :23\n",
      "攝氏溫度 : -5.0\n"
     ]
    }
   ],
   "source": [
    "# 5.\n",
    "a=eval(input('輸入華氏溫度 :'))\n",
    "print('攝氏溫度 :',(a-32)*5/9)"
   ]
  },
  {
   "cell_type": "code",
   "execution_count": 18,
   "metadata": {},
   "outputs": [
    {
     "name": "stdout",
     "output_type": "stream",
     "text": [
      "輸入三個整數2,2,2\n",
      "總和 = 6\n",
      "平均數 = 2.0\n"
     ]
    }
   ],
   "source": [
    "# 6.\n",
    "a,b,c=eval(input('輸入三個整數'))\n",
    "print(\"總和 =\",a+b+c)\n",
    "print(\"平均數 =\",(a+b+c)/3)"
   ]
  },
  {
   "cell_type": "code",
   "execution_count": 22,
   "metadata": {},
   "outputs": [
    {
     "name": "stdout",
     "output_type": "stream",
     "text": [
      "輸入姓名 :aaa\n",
      "輸入學號 :32131651\n",
      "輸入地址 :哈哈哈\n",
      "姓名 : aaa\n",
      "學號 : 32131651\n",
      "地址 : 哈哈哈\n"
     ]
    }
   ],
   "source": [
    "# 7.\n",
    "a=input('輸入姓名 :')\n",
    "b=input('輸入學號 :')\n",
    "c=input('輸入地址 :')\n",
    "print('姓名 :',a)\n",
    "print('學號 :',b)\n",
    "print('地址 :',c)\n"
   ]
  },
  {
   "cell_type": "code",
   "execution_count": 27,
   "metadata": {},
   "outputs": [
    {
     "name": "stdout",
     "output_type": "stream",
     "text": [
      "輸入圓的半徑 :3\n",
      "面積 = 28.274333882308138\n",
      "周長 = 18.84955592153876\n"
     ]
    }
   ],
   "source": [
    "# 8.\n",
    "import math\n",
    "a=eval(input('輸入圓的半徑 :'))\n",
    "print(\"面積 =\",(a**2)*math.pi)\n",
    "print(\"周長 =\",(a*2)*math.pi)"
   ]
  },
  {
   "cell_type": "code",
   "execution_count": 28,
   "metadata": {},
   "outputs": [
    {
     "name": "stdout",
     "output_type": "stream",
     "text": [
      "輸入長,寬4,5\n",
      "面積 = 20\n",
      "周長 = 18\n"
     ]
    }
   ],
   "source": [
    "# 9.\n",
    "a,b=eval(input(\"輸入長,寬\"))\n",
    "print(\"面積 =\",a*b)\n",
    "print(\"周長 =\",(a+b)*2)"
   ]
  },
  {
   "cell_type": "code",
   "execution_count": 35,
   "metadata": {},
   "outputs": [
    {
     "name": "stdout",
     "output_type": "stream",
     "text": [
      "enter (x,y) :88,99\n",
      "-1970.6818181818182\n"
     ]
    }
   ],
   "source": [
    "# 10.\n",
    "x,y=eval(input('enter (x,y) :'))\n",
    "print(((3+4*x)/5)-(10*(y-5)*(x+y+5)/x)+9*(4/x+(9+x)/y))"
   ]
  },
  {
   "cell_type": "code",
   "execution_count": 38,
   "metadata": {},
   "outputs": [
    {
     "name": "stdout",
     "output_type": "stream",
     "text": [
      "enter three number (a,b,c)1,2,3\n",
      "-14.619047619047622\n"
     ]
    }
   ],
   "source": [
    "# 11.\n",
    "a,b,c=eval(input('enter three number (a,b,c)'))\n",
    "x=4/3*(a+34)\n",
    "y=9*(a+b*c)\n",
    "z=(3+3*(2+a))/(a+3*b)\n",
    "print(x-y+z)"
   ]
  },
  {
   "cell_type": "code",
   "execution_count": null,
   "metadata": {},
   "outputs": [],
   "source": []
  },
  {
   "cell_type": "code",
   "execution_count": null,
   "metadata": {},
   "outputs": [],
   "source": []
  },
  {
   "cell_type": "code",
   "execution_count": null,
   "metadata": {},
   "outputs": [],
   "source": []
  },
  {
   "cell_type": "code",
   "execution_count": null,
   "metadata": {},
   "outputs": [],
   "source": []
  },
  {
   "cell_type": "code",
   "execution_count": null,
   "metadata": {},
   "outputs": [],
   "source": []
  },
  {
   "cell_type": "code",
   "execution_count": null,
   "metadata": {},
   "outputs": [],
   "source": []
  },
  {
   "cell_type": "code",
   "execution_count": null,
   "metadata": {},
   "outputs": [],
   "source": []
  },
  {
   "cell_type": "code",
   "execution_count": null,
   "metadata": {},
   "outputs": [],
   "source": []
  },
  {
   "cell_type": "code",
   "execution_count": null,
   "metadata": {},
   "outputs": [],
   "source": []
  }
 ],
 "metadata": {
  "kernelspec": {
   "display_name": "Python 3",
   "language": "python",
   "name": "python3"
  },
  "language_info": {
   "codemirror_mode": {
    "name": "ipython",
    "version": 3
   },
   "file_extension": ".py",
   "mimetype": "text/x-python",
   "name": "python",
   "nbconvert_exporter": "python",
   "pygments_lexer": "ipython3",
   "version": "3.7.3"
  }
 },
 "nbformat": 4,
 "nbformat_minor": 2
}
